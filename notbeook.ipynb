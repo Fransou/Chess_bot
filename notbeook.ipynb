{
 "cells": [
  {
   "cell_type": "code",
   "execution_count": null,
   "metadata": {},
   "outputs": [],
   "source": [
    "import numpy as np\n",
    "import matplotlib.pyplot as plt\n",
    "\n",
    "import chess\n",
    "\n",
    "from env import *\n",
    "env = Chess_env()\n",
    "obs = env.reset()\n",
    "\n",
    "from deepQ import *\n",
    "\n",
    "env.board"
   ]
  },
  {
   "cell_type": "code",
   "execution_count": null,
   "metadata": {},
   "outputs": [],
   "source": [
    "for step in range(2):\n",
    "    action = np.random.choice(list(env.board.legal_moves))\n",
    "    _,_,done,_ = env.step(action)\n",
    "\n",
    "env.board"
   ]
  },
  {
   "cell_type": "code",
   "execution_count": null,
   "metadata": {},
   "outputs": [],
   "source": [
    "list(env.board.legal_moves)[10:]"
   ]
  },
  {
   "cell_type": "code",
   "execution_count": null,
   "metadata": {},
   "outputs": [],
   "source": [
    "model = DeepQ(env, dropout_rate=0.1, n_channels=100, n_residual=1)\n",
    "model.model.summary()"
   ]
  },
  {
   "cell_type": "code",
   "execution_count": null,
   "metadata": {},
   "outputs": [],
   "source": [
    "%%time\n",
    "model.predict_move_to_play_MCTS(5, env,400,)"
   ]
  },
  {
   "cell_type": "code",
   "execution_count": null,
   "metadata": {},
   "outputs": [],
   "source": [
    "model.train(\n",
    "    max_epoch = 1000, \n",
    "    epsilon_random_frames = 5000,\n",
    "    epsilon_greedy_frames = 50000,\n",
    "    max_memory_length = 5000,\n",
    "    update_after_actions = 4,\n",
    "    update_target_network = 1000,\n",
    "    epsilon = 1,\n",
    "    epsilon_min = 0.1,\n",
    "    gamma = 0.99,\n",
    "    batch_size = 32,\n",
    "    max_steps_per_episode = 100,\n",
    "    learning_rate=1e-4,\n",
    "    MCTS_depth=8,\n",
    "    MCTS_iterations=400\n",
    "    )"
   ]
  },
  {
   "cell_type": "code",
   "execution_count": null,
   "metadata": {},
   "outputs": [],
   "source": []
  }
 ],
 "metadata": {
  "interpreter": {
   "hash": "19a9e2250981a50c8d3a3d12972bc8b4095913f61c1fe8c3c9c8b6c0d63cf46a"
  },
  "kernelspec": {
   "display_name": "Python 3.9.7 64-bit",
   "name": "python3"
  },
  "language_info": {
   "codemirror_mode": {
    "name": "ipython",
    "version": 3
   },
   "file_extension": ".py",
   "mimetype": "text/x-python",
   "name": "python",
   "nbconvert_exporter": "python",
   "pygments_lexer": "ipython3",
   "version": "3.9.7"
  },
  "orig_nbformat": 4
 },
 "nbformat": 4,
 "nbformat_minor": 2
}
